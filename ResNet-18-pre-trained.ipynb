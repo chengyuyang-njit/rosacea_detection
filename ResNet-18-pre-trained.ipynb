{
 "cells": [
  {
   "cell_type": "code",
   "execution_count": 1,
   "metadata": {},
   "outputs": [],
   "source": [
    "# To be finished\n",
    "import torch\n",
    "import torch.nn as nn\n",
    "import torch.optim as optim\n",
    "from torch.optim import lr_scheduler\n",
    "import torchvision\n",
    "from torchvision import transforms, datasets, models\n",
    "import os\n",
    "import numpy as np\n",
    "import matplotlib.pyplot as plt\n",
    "import time\n",
    "from PIL import Image"
   ]
  },
  {
   "cell_type": "code",
   "execution_count": 2,
   "metadata": {},
   "outputs": [
    {
     "name": "stderr",
     "output_type": "stream",
     "text": [
      "\u001b[34m\u001b[1mwandb\u001b[0m: Using wandb-core as the SDK backend. Please refer to https://wandb.me/wandb-core for more information.\n",
      "\u001b[34m\u001b[1mwandb\u001b[0m: Currently logged in as: \u001b[33mcy322\u001b[0m (\u001b[33mcy322-new-jersey-institute-of-technology\u001b[0m). Use \u001b[1m`wandb login --relogin`\u001b[0m to force relogin\n"
     ]
    },
    {
     "data": {
      "text/plain": [
       "True"
      ]
     },
     "execution_count": 2,
     "metadata": {},
     "output_type": "execute_result"
    }
   ],
   "source": [
    "import wandb\n",
    "wandb.login()"
   ]
  },
  {
   "cell_type": "code",
   "execution_count": 4,
   "metadata": {},
   "outputs": [
    {
     "data": {
      "text/html": [
       "Tracking run with wandb version 0.18.5"
      ],
      "text/plain": [
       "<IPython.core.display.HTML object>"
      ]
     },
     "metadata": {},
     "output_type": "display_data"
    },
    {
     "data": {
      "text/html": [
       "Run data is saved locally in <code>/mmfs1/home/cy322/projects/MICAD-2024/Code/wandb/run-20241101_145058-9rgrjx26</code>"
      ],
      "text/plain": [
       "<IPython.core.display.HTML object>"
      ]
     },
     "metadata": {},
     "output_type": "display_data"
    },
    {
     "data": {
      "text/html": [
       "Syncing run <strong><a href='https://wandb.ai/cy322-new-jersey-institute-of-technology/MICAD-2024/runs/9rgrjx26' target=\"_blank\">vivid-lamp-6</a></strong> to <a href='https://wandb.ai/cy322-new-jersey-institute-of-technology/MICAD-2024' target=\"_blank\">Weights & Biases</a> (<a href='https://wandb.me/run' target=\"_blank\">docs</a>)<br/>"
      ],
      "text/plain": [
       "<IPython.core.display.HTML object>"
      ]
     },
     "metadata": {},
     "output_type": "display_data"
    },
    {
     "data": {
      "text/html": [
       " View project at <a href='https://wandb.ai/cy322-new-jersey-institute-of-technology/MICAD-2024' target=\"_blank\">https://wandb.ai/cy322-new-jersey-institute-of-technology/MICAD-2024</a>"
      ],
      "text/plain": [
       "<IPython.core.display.HTML object>"
      ]
     },
     "metadata": {},
     "output_type": "display_data"
    },
    {
     "data": {
      "text/html": [
       " View run at <a href='https://wandb.ai/cy322-new-jersey-institute-of-technology/MICAD-2024/runs/9rgrjx26' target=\"_blank\">https://wandb.ai/cy322-new-jersey-institute-of-technology/MICAD-2024/runs/9rgrjx26</a>"
      ],
      "text/plain": [
       "<IPython.core.display.HTML object>"
      ]
     },
     "metadata": {},
     "output_type": "display_data"
    },
    {
     "data": {
      "text/html": [
       "<button onClick=\"this.nextSibling.style.display='block';this.style.display='none';\">Display W&B run</button><iframe src='https://wandb.ai/cy322-new-jersey-institute-of-technology/MICAD-2024/runs/9rgrjx26?jupyter=true' style='border:none;width:100%;height:420px;display:none;'></iframe>"
      ],
      "text/plain": [
       "<wandb.sdk.wandb_run.Run at 0x155460eb3c20>"
      ]
     },
     "execution_count": 4,
     "metadata": {},
     "output_type": "execute_result"
    }
   ],
   "source": [
    "wandb.init(\n",
    "    project = 'MICAD-2024',\n",
    "    config = {\n",
    "        \"learning_rate\": 0.001,\n",
    "        \"architecture\":\"ResNet-18-fine-tune\",\n",
    "        \"dataset\" :\"gen-rosa-norm\",\n",
    "        \"epochs\" : 50,\n",
    "    }\n",
    ")"
   ]
  },
  {
   "cell_type": "code",
   "execution_count": 3,
   "metadata": {},
   "outputs": [
    {
     "data": {
      "text/plain": [
       "True"
      ]
     },
     "execution_count": 3,
     "metadata": {},
     "output_type": "execute_result"
    }
   ],
   "source": [
    "torch.cuda.is_available()"
   ]
  },
  {
   "cell_type": "code",
   "execution_count": 6,
   "metadata": {},
   "outputs": [
    {
     "name": "stdout",
     "output_type": "stream",
     "text": [
      "['normal', 'rosacea']\n",
      "device:  cuda:0\n"
     ]
    }
   ],
   "source": [
    "# Data augmentation and normalization for training\n",
    "# Just normalization for validation\n",
    "\n",
    "data_transforms = {\n",
    "    'train': transforms.Compose([\n",
    "        transforms.RandomResizedCrop(450),\n",
    "        transforms.RandomHorizontalFlip(),\n",
    "        transforms.ToTensor(),\n",
    "        transforms.Normalize([0.485,0.456,0.406],[0.229,0.224,0.225])\n",
    "    ]),\n",
    "    'val': transforms.Compose([\n",
    "        transforms.Resize(512),\n",
    "        transforms.CenterCrop(450),\n",
    "        transforms.ToTensor(),\n",
    "        transforms.Normalize([0.485,0.456,0.406],[0.229,0.224,0.225])\n",
    "    ]),\n",
    "    'test': transforms.Compose([\n",
    "        transforms.Resize(size = (512,512)),\n",
    "        transforms.CenterCrop(450),\n",
    "        transforms.ToTensor(),\n",
    "        transforms.Normalize([0.485,0.456,0.406],[0.229,0.224,0.225])\n",
    "    ])\n",
    "}\n",
    "\n",
    "data_dir = '../Dataset'\n",
    "image_datasets = {x : datasets.ImageFolder(os.path.join(data_dir,x),\n",
    "                                           data_transforms[x])\n",
    "                  for x in ['train', 'val', 'test']}\n",
    "dataloaders = {x: torch.utils.data.DataLoader(image_datasets[x], batch_size = 4,\n",
    "                                              shuffle = True, num_workers = 1)\n",
    "               for x in ['train', 'val', 'test']}\n",
    "dataset_sizes = {x: len(image_datasets[x]) for x in ['train', 'val', 'test']}\n",
    "class_names = image_datasets['train'].classes\n",
    "\n",
    "device = torch.device(\"cuda:0\" if torch.cuda.is_available() else \"cpu\")\n",
    "\n",
    "print(class_names)\n",
    "print(\"device: \", device)"
   ]
  },
  {
   "cell_type": "code",
   "execution_count": 8,
   "metadata": {},
   "outputs": [],
   "source": [
    "def train_model(model, criterion, optimizer, scheduler, num_epochs, model_save_name):\n",
    "    since = time.time()\n",
    "\n",
    "    # Create a temporary directory to save training checkpoints\n",
    "    # with TemporaryDirectory() as tempdir:\n",
    "    ckdir = './checkpoints'\n",
    "    best_model_params_path = os.path.join(ckdir, model_save_name)\n",
    "\n",
    "    torch.save(model.state_dict(), best_model_params_path)\n",
    "    best_acc = 0.0\n",
    "\n",
    "    for epoch in range(num_epochs):\n",
    "        print(f'Epoch {epoch}/{num_epochs - 1}')\n",
    "        print('-' * 10)\n",
    "\n",
    "        # Each epoch has a training and validation phase\n",
    "        for phase in ['train', 'val']:\n",
    "        # for phase in ['train']:\n",
    "            if phase == 'train':\n",
    "                model.train()  # Set model to training mode\n",
    "            else:\n",
    "                model.eval()   # Set model to evaluate mode\n",
    "\n",
    "            running_loss = 0.0\n",
    "            running_corrects = 0\n",
    "\n",
    "            # Iterate over data.\n",
    "            for inputs, labels in dataloaders[phase]:\n",
    "                inputs = inputs.to(device)\n",
    "                labels = labels.to(device)\n",
    "\n",
    "                # zero the parameter gradients\n",
    "                optimizer.zero_grad()\n",
    "\n",
    "                # forward\n",
    "                # track history if only in train\n",
    "                with torch.set_grad_enabled(phase == 'train'):\n",
    "                    outputs = model(inputs)\n",
    "                    _, preds = torch.max(outputs, 1)\n",
    "                    loss = criterion(outputs, labels)\n",
    "\n",
    "                    # backward + optimize only if in training phase\n",
    "                    if phase == 'train':\n",
    "                        loss.backward()\n",
    "                        optimizer.step()\n",
    "\n",
    "                # statistics\n",
    "                running_loss += loss.item() * inputs.size(0)\n",
    "                running_corrects += torch.sum(preds == labels.data)\n",
    "            if phase == 'train':\n",
    "                scheduler.step()\n",
    "            \n",
    "\n",
    "            epoch_acc = running_corrects.double() / dataset_sizes[phase]\n",
    "            epoch_loss = running_loss / dataset_sizes[phase]\n",
    "            if phase == 'train':\n",
    "                training_loss = running_loss / dataset_sizes[phase]\n",
    "                training_acc = running_corrects.double() / dataset_sizes[phase]\n",
    "                wandb.log({\"training acc\":training_acc, \"trainig loss\":training_loss})\n",
    "            else: # phase == 'test'\n",
    "                val_loss = running_loss / dataset_sizes[phase]\n",
    "                val_acc = running_corrects.double() / dataset_sizes[phase]\n",
    "                wandb.log({\"validation acc\":val_acc, \"validation loss\":val_loss})\n",
    "\n",
    "            \n",
    "            print(f'{phase} Loss: {epoch_loss:.4f} Acc: {epoch_acc:.4f}')\n",
    "\n",
    "            # deep copy the model\n",
    "            if phase == 'val' and epoch_acc > best_acc:\n",
    "                best_acc = epoch_acc\n",
    "                torch.save(model.state_dict(), best_model_params_path)\n",
    "\n",
    "        print()\n",
    "\n",
    "    time_elapsed = time.time() - since\n",
    "    print(f'Training complete in {time_elapsed // 60:.0f}m {time_elapsed % 60:.0f}s')\n",
    "    print(f'Best val Acc: {best_acc:4f}')\n",
    "\n",
    "    # load best model weights\n",
    "    model.load_state_dict(torch.load(best_model_params_path, weights_only=True))\n",
    "    wandb.finish()\n",
    "    return model"
   ]
  },
  {
   "cell_type": "code",
   "execution_count": 14,
   "metadata": {},
   "outputs": [],
   "source": [
    "from torchvision.models import ResNet18_Weights\n",
    "model_ft = models.resnet18(weights=ResNet18_Weights.DEFAULT)\n",
    "num_ftrs = model_ft.fc.in_features\n",
    "model_ft.fc = nn.Linear(num_ftrs, 2)\n",
    "\n",
    "model_ft = model_ft.to(device)\n",
    "criterion = nn.CrossEntropyLoss()\n",
    "\n",
    "# Observe that all parameters are being optimized\n",
    "optimizer_ft = optim.SGD(model_ft.fc.parameters(), lr = 0.001, momentum = 0.9)\n",
    "\n",
    "# Decay LR by a factor of 0.1 every 7 epochs\n",
    "exp_lr_scheduler = lr_scheduler.StepLR(optimizer_ft, step_size = 7, gamma = 0.1)"
   ]
  },
  {
   "cell_type": "code",
   "execution_count": 18,
   "metadata": {},
   "outputs": [
    {
     "name": "stdout",
     "output_type": "stream",
     "text": [
      "Epoch 0/49\n",
      "----------\n",
      "train Loss: 0.1146 Acc: 0.9573\n",
      "val Loss: 0.0076 Acc: 1.0000\n",
      "\n",
      "Epoch 1/49\n",
      "----------\n",
      "train Loss: 0.1232 Acc: 0.9520\n",
      "val Loss: 0.0056 Acc: 1.0000\n",
      "\n",
      "Epoch 2/49\n",
      "----------\n",
      "train Loss: 0.1070 Acc: 0.9640\n",
      "val Loss: 0.0044 Acc: 1.0000\n",
      "\n",
      "Epoch 3/49\n",
      "----------\n",
      "train Loss: 0.1184 Acc: 0.9520\n",
      "val Loss: 0.0050 Acc: 1.0000\n",
      "\n",
      "Epoch 4/49\n",
      "----------\n",
      "train Loss: 0.2031 Acc: 0.9293\n",
      "val Loss: 0.0059 Acc: 1.0000\n",
      "\n",
      "Epoch 5/49\n",
      "----------\n",
      "train Loss: 0.1080 Acc: 0.9600\n",
      "val Loss: 0.0053 Acc: 1.0000\n",
      "\n",
      "Epoch 6/49\n",
      "----------\n",
      "train Loss: 0.1224 Acc: 0.9600\n",
      "val Loss: 0.0034 Acc: 1.0000\n",
      "\n",
      "Epoch 7/49\n",
      "----------\n",
      "train Loss: 0.1126 Acc: 0.9640\n",
      "val Loss: 0.0030 Acc: 1.0000\n",
      "\n",
      "Epoch 8/49\n",
      "----------\n",
      "train Loss: 0.1256 Acc: 0.9520\n",
      "val Loss: 0.0034 Acc: 1.0000\n",
      "\n",
      "Epoch 9/49\n",
      "----------\n",
      "train Loss: 0.0995 Acc: 0.9653\n",
      "val Loss: 0.0072 Acc: 1.0000\n",
      "\n",
      "Epoch 10/49\n",
      "----------\n",
      "train Loss: 0.1771 Acc: 0.9467\n",
      "val Loss: 0.0018 Acc: 1.0000\n",
      "\n",
      "Epoch 11/49\n",
      "----------\n",
      "train Loss: 0.1146 Acc: 0.9640\n",
      "val Loss: 0.0033 Acc: 1.0000\n",
      "\n",
      "Epoch 12/49\n",
      "----------\n",
      "train Loss: 0.1497 Acc: 0.9440\n",
      "val Loss: 0.0041 Acc: 1.0000\n",
      "\n",
      "Epoch 13/49\n",
      "----------\n",
      "train Loss: 0.1664 Acc: 0.9360\n",
      "val Loss: 0.0034 Acc: 1.0000\n",
      "\n",
      "Epoch 14/49\n",
      "----------\n",
      "train Loss: 0.0935 Acc: 0.9640\n",
      "val Loss: 0.0043 Acc: 1.0000\n",
      "\n",
      "Epoch 15/49\n",
      "----------\n",
      "train Loss: 0.1121 Acc: 0.9560\n",
      "val Loss: 0.0035 Acc: 1.0000\n",
      "\n",
      "Epoch 16/49\n",
      "----------\n",
      "train Loss: 0.1000 Acc: 0.9707\n",
      "val Loss: 0.0035 Acc: 1.0000\n",
      "\n",
      "Epoch 17/49\n",
      "----------\n",
      "train Loss: 0.1096 Acc: 0.9587\n",
      "val Loss: 0.0031 Acc: 1.0000\n",
      "\n",
      "Epoch 18/49\n",
      "----------\n",
      "train Loss: 0.1003 Acc: 0.9680\n",
      "val Loss: 0.0030 Acc: 1.0000\n",
      "\n",
      "Epoch 19/49\n",
      "----------\n",
      "train Loss: 0.1047 Acc: 0.9653\n",
      "val Loss: 0.0031 Acc: 1.0000\n",
      "\n",
      "Epoch 20/49\n",
      "----------\n",
      "train Loss: 0.1346 Acc: 0.9507\n",
      "val Loss: 0.0042 Acc: 1.0000\n",
      "\n",
      "Epoch 21/49\n",
      "----------\n",
      "train Loss: 0.1236 Acc: 0.9520\n",
      "val Loss: 0.0044 Acc: 1.0000\n",
      "\n",
      "Epoch 22/49\n",
      "----------\n",
      "train Loss: 0.1112 Acc: 0.9627\n",
      "val Loss: 0.0030 Acc: 1.0000\n",
      "\n",
      "Epoch 23/49\n",
      "----------\n",
      "train Loss: 0.1662 Acc: 0.9427\n",
      "val Loss: 0.0042 Acc: 1.0000\n",
      "\n",
      "Epoch 24/49\n",
      "----------\n",
      "train Loss: 0.1241 Acc: 0.9507\n",
      "val Loss: 0.0058 Acc: 1.0000\n",
      "\n",
      "Epoch 25/49\n",
      "----------\n",
      "train Loss: 0.1231 Acc: 0.9587\n",
      "val Loss: 0.0064 Acc: 1.0000\n",
      "\n",
      "Epoch 26/49\n",
      "----------\n",
      "train Loss: 0.1490 Acc: 0.9467\n",
      "val Loss: 0.0057 Acc: 1.0000\n",
      "\n",
      "Epoch 27/49\n",
      "----------\n",
      "train Loss: 0.1348 Acc: 0.9507\n",
      "val Loss: 0.0073 Acc: 1.0000\n",
      "\n",
      "Epoch 28/49\n",
      "----------\n",
      "train Loss: 0.1327 Acc: 0.9453\n",
      "val Loss: 0.0036 Acc: 1.0000\n",
      "\n",
      "Epoch 29/49\n",
      "----------\n",
      "train Loss: 0.1431 Acc: 0.9453\n",
      "val Loss: 0.0032 Acc: 1.0000\n",
      "\n",
      "Epoch 30/49\n",
      "----------\n",
      "train Loss: 0.1073 Acc: 0.9640\n",
      "val Loss: 0.0049 Acc: 1.0000\n",
      "\n",
      "Epoch 31/49\n",
      "----------\n",
      "train Loss: 0.0778 Acc: 0.9707\n",
      "val Loss: 0.0029 Acc: 1.0000\n",
      "\n",
      "Epoch 32/49\n",
      "----------\n",
      "train Loss: 0.1060 Acc: 0.9613\n",
      "val Loss: 0.0067 Acc: 1.0000\n",
      "\n",
      "Epoch 33/49\n",
      "----------\n",
      "train Loss: 0.1631 Acc: 0.9427\n",
      "val Loss: 0.0028 Acc: 1.0000\n",
      "\n",
      "Epoch 34/49\n",
      "----------\n",
      "train Loss: 0.1621 Acc: 0.9427\n",
      "val Loss: 0.0043 Acc: 1.0000\n",
      "\n",
      "Epoch 35/49\n",
      "----------\n",
      "train Loss: 0.1402 Acc: 0.9533\n",
      "val Loss: 0.0044 Acc: 1.0000\n",
      "\n",
      "Epoch 36/49\n",
      "----------\n",
      "train Loss: 0.1024 Acc: 0.9680\n",
      "val Loss: 0.0027 Acc: 1.0000\n",
      "\n",
      "Epoch 37/49\n",
      "----------\n",
      "train Loss: 0.1043 Acc: 0.9613\n",
      "val Loss: 0.0040 Acc: 1.0000\n",
      "\n",
      "Epoch 38/49\n",
      "----------\n",
      "train Loss: 0.1137 Acc: 0.9573\n",
      "val Loss: 0.0041 Acc: 1.0000\n",
      "\n",
      "Epoch 39/49\n",
      "----------\n",
      "train Loss: 0.0967 Acc: 0.9693\n",
      "val Loss: 0.0052 Acc: 1.0000\n",
      "\n",
      "Epoch 40/49\n",
      "----------\n",
      "train Loss: 0.1275 Acc: 0.9613\n",
      "val Loss: 0.0059 Acc: 1.0000\n",
      "\n",
      "Epoch 41/49\n",
      "----------\n",
      "train Loss: 0.0962 Acc: 0.9613\n",
      "val Loss: 0.0038 Acc: 1.0000\n",
      "\n",
      "Epoch 42/49\n",
      "----------\n",
      "train Loss: 0.1469 Acc: 0.9533\n",
      "val Loss: 0.0038 Acc: 1.0000\n",
      "\n",
      "Epoch 43/49\n",
      "----------\n",
      "train Loss: 0.0872 Acc: 0.9613\n",
      "val Loss: 0.0066 Acc: 1.0000\n",
      "\n",
      "Epoch 44/49\n",
      "----------\n",
      "train Loss: 0.0984 Acc: 0.9613\n",
      "val Loss: 0.0038 Acc: 1.0000\n",
      "\n",
      "Epoch 45/49\n",
      "----------\n",
      "train Loss: 0.1352 Acc: 0.9573\n",
      "val Loss: 0.0023 Acc: 1.0000\n",
      "\n",
      "Epoch 46/49\n",
      "----------\n",
      "train Loss: 0.1235 Acc: 0.9493\n",
      "val Loss: 0.0060 Acc: 1.0000\n",
      "\n",
      "Epoch 47/49\n",
      "----------\n",
      "train Loss: 0.1250 Acc: 0.9573\n",
      "val Loss: 0.0030 Acc: 1.0000\n",
      "\n",
      "Epoch 48/49\n",
      "----------\n",
      "train Loss: 0.1158 Acc: 0.9640\n",
      "val Loss: 0.0046 Acc: 1.0000\n",
      "\n",
      "Epoch 49/49\n",
      "----------\n",
      "train Loss: 0.1254 Acc: 0.9560\n",
      "val Loss: 0.0027 Acc: 1.0000\n",
      "\n",
      "Training complete in 29m 47s\n",
      "Best val Acc: 1.000000\n"
     ]
    },
    {
     "data": {
      "text/html": [
       "<style>\n",
       "    table.wandb td:nth-child(1) { padding: 0 10px; text-align: left ; width: auto;} td:nth-child(2) {text-align: left ; width: 100%}\n",
       "    .wandb-row { display: flex; flex-direction: row; flex-wrap: wrap; justify-content: flex-start; width: 100% }\n",
       "    .wandb-col { display: flex; flex-direction: column; flex-basis: 100%; flex: 1; padding: 10px; }\n",
       "    </style>\n",
       "<div class=\"wandb-row\"><div class=\"wandb-col\"><h3>Run history:</h3><br/><table class=\"wandb\"><tr><td>trainig loss</td><td>█▄▃▄▂▁▁▁▂▁▂▂▂▂▂▂▂▂▂▂▁▂▂▂▂▂▃▃▂▂▂▃▃▂▂▁▂▂▂▂</td></tr><tr><td>training acc</td><td>▁▅▇▇▇█▇███▇█▇▇▇▇█▇█▇▇█▇███▇▇▇▇█▇▇█▇▇▇▇▇█</td></tr><tr><td>validation acc</td><td>▁▁▁▁▁▁▁▁▁▁▁▁▁▁▁▁▁▁▁▁▁▁▁▁▁▁▁▁▁▁▁▁▁▁▁▁▁▁▁▁</td></tr><tr><td>validation loss</td><td>▇█▃▁▂▁▁▁▁▁▁▁▁▁▁▁▁▂▂▁▁▁▁▁▁▁▁▂▂▂▁▁▁▁▁▂▁▂▁▁</td></tr></table><br/></div><div class=\"wandb-col\"><h3>Run summary:</h3><br/><table class=\"wandb\"><tr><td>trainig loss</td><td>0.12545</td></tr><tr><td>training acc</td><td>0.956</td></tr><tr><td>validation acc</td><td>1</td></tr><tr><td>validation loss</td><td>0.0027</td></tr></table><br/></div></div>"
      ],
      "text/plain": [
       "<IPython.core.display.HTML object>"
      ]
     },
     "metadata": {},
     "output_type": "display_data"
    },
    {
     "data": {
      "text/html": [
       " View run <strong style=\"color:#cdcd00\">sparkling-flower-5</strong> at: <a href='https://wandb.ai/cy322-new-jersey-institute-of-technology/MICAD-2024/runs/s1eirumu' target=\"_blank\">https://wandb.ai/cy322-new-jersey-institute-of-technology/MICAD-2024/runs/s1eirumu</a><br/> View project at: <a href='https://wandb.ai/cy322-new-jersey-institute-of-technology/MICAD-2024' target=\"_blank\">https://wandb.ai/cy322-new-jersey-institute-of-technology/MICAD-2024</a><br/>Synced 5 W&B file(s), 0 media file(s), 0 artifact file(s) and 0 other file(s)"
      ],
      "text/plain": [
       "<IPython.core.display.HTML object>"
      ]
     },
     "metadata": {},
     "output_type": "display_data"
    },
    {
     "data": {
      "text/html": [
       "Find logs at: <code>./wandb/run-20241031_210247-s1eirumu/logs</code>"
      ],
      "text/plain": [
       "<IPython.core.display.HTML object>"
      ]
     },
     "metadata": {},
     "output_type": "display_data"
    }
   ],
   "source": [
    "lr = 0.001\n",
    "momentum = 0.9\n",
    "gamma = 0.1\n",
    "model_name = \"ResNet-18-fine-tune\"\n",
    "model_ft = train_model(model_ft, criterion, optimizer_ft, exp_lr_scheduler,\n",
    "                       num_epochs = 50, model_save_name=f\"{model_name}_lr_{lr}_momentum_{momentum}_gamma_{gamma}.pt\")"
   ]
  },
  {
   "cell_type": "code",
   "execution_count": 7,
   "metadata": {},
   "outputs": [
    {
     "name": "stdout",
     "output_type": "stream",
     "text": [
      "29 150 0 21\n",
      "TP:29, TN:150, FP:0, FN:21\n",
      "Test accuray:0.895\n"
     ]
    }
   ],
   "source": [
    "# On test set\n",
    "model_ft = models.resnet18()\n",
    "num_ftrs = model_ft.fc.in_features\n",
    "model_ft.fc = nn.Linear(num_ftrs, 2)\n",
    "model_ft.load_state_dict(torch.load(\n",
    "    \"./checkpoints/ResNet-18-fine-tune_lr_0.001_momentum_0.9_gamma_0.1.pt\", weights_only = True))\n",
    "model_ft = model_ft.to(device)\n",
    "model_ft.eval()\n",
    "running_corrects = 0\n",
    "TP = 0\n",
    "TN = 0\n",
    "FP = 0\n",
    "FN = 0\n",
    "for inputs, labels in dataloaders['test']:\n",
    "    inputs = inputs.to(device)\n",
    "    labels = labels.to(device)\n",
    "\n",
    "    with torch.no_grad():\n",
    "        outputs = model_ft(inputs)\n",
    "        _, preds = torch.max(outputs, 1)\n",
    "\n",
    "        running_corrects += torch.sum(preds == labels.data)\n",
    "        for i in range(len(preds)):\n",
    "            if preds[i] == 1 and labels.data[i] == 1:\n",
    "                TP += 1\n",
    "            elif preds[i] == 0 and labels.data[i] == 0:\n",
    "                TN += 1\n",
    "            elif preds[i] == 1 and labels.data[i] == 0:\n",
    "                FP += 1\n",
    "            else: # preds[i] == 0 and labels.data[i] == 1 \n",
    "                FN += 1\n",
    "\n",
    "print(TP,TN,FP,FN)\n",
    "test_accuracy = running_corrects.double() / dataset_sizes['test']\n",
    "print(f\"TP:{TP}, TN:{TN}, FP:{FP}, FN:{FN}\")\n",
    "print(f\"Test accuray:{test_accuracy}\")"
   ]
  }
 ],
 "metadata": {
  "kernelspec": {
   "display_name": "micad",
   "language": "python",
   "name": "python3"
  },
  "language_info": {
   "codemirror_mode": {
    "name": "ipython",
    "version": 3
   },
   "file_extension": ".py",
   "mimetype": "text/x-python",
   "name": "python",
   "nbconvert_exporter": "python",
   "pygments_lexer": "ipython3",
   "version": "3.12.7"
  }
 },
 "nbformat": 4,
 "nbformat_minor": 2
}
